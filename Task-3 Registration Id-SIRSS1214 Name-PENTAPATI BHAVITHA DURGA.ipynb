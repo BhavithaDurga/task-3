{
 "cells": [
  {
   "cell_type": "markdown",
   "id": "e37ed4a6",
   "metadata": {},
   "source": [
    "# 1.Write a function to return nth term of Fibonacci sequence."
   ]
  },
  {
   "cell_type": "code",
   "execution_count": 4,
   "id": "2f374f94",
   "metadata": {},
   "outputs": [
    {
     "name": "stdout",
     "output_type": "stream",
     "text": [
      "Enter a number:25\n",
      "25 th term of Fibonacci sequence is: 75025\n"
     ]
    }
   ],
   "source": [
    "def fibonacci(n):\n",
    "    l=[0,1]\n",
    "    if n==1:\n",
    "        print(n,\"th term of Fibonacci sequence is:\",l[0])\n",
    "    else:\n",
    "        for i in range(2,n+1):\n",
    "            l.append(l[-1]+l[-2])\n",
    "        print(n,\"th term of Fibonacci sequence is:\",l[-1])\n",
    "n=int(input(\"Enter a number:\"))\n",
    "fibonacci(n)"
   ]
  },
  {
   "cell_type": "markdown",
   "id": "abbfea39",
   "metadata": {},
   "source": [
    "# 2.Write a function to find out the GCD of two numbers using EUCLID'S algorithm."
   ]
  },
  {
   "cell_type": "code",
   "execution_count": 5,
   "id": "90822b09",
   "metadata": {},
   "outputs": [
    {
     "name": "stdout",
     "output_type": "stream",
     "text": [
      "Enter two Numbers:\n",
      "20 30\n",
      "The Gcd of two Numbers using Euclid's alogorithm is: 10\n"
     ]
    }
   ],
   "source": [
    "def gcd(a,b):\n",
    "    if a==0:\n",
    "        return b \n",
    "    return gcd(b%a,a)\n",
    "print(\"Enter two Numbers:\")\n",
    "a,b=map(int,input().split())\n",
    "print(\"The Gcd of two Numbers using Euclid's alogorithm is:\",gcd(a,b))"
   ]
  },
  {
   "cell_type": "markdown",
   "id": "77c24a5d",
   "metadata": {},
   "source": [
    "# 3.Write a function to find the LCM of two numbers in most optimizers way."
   ]
  },
  {
   "cell_type": "code",
   "execution_count": 6,
   "id": "0abf0330",
   "metadata": {},
   "outputs": [
    {
     "name": "stdout",
     "output_type": "stream",
     "text": [
      "Enter two Numbers:\n",
      "15 30\n",
      "The LCM of two Numbers is: 30\n"
     ]
    }
   ],
   "source": [
    "def gcd(a,b):\n",
    "    if a==0:\n",
    "        return b \n",
    "    return gcd(b%a,a)\n",
    "def lcm(a,b):\n",
    "    return (a//gcd(a,b))*b\n",
    "print(\"Enter two Numbers:\")\n",
    "a,b=map(int,input().split())\n",
    "print(\"The LCM of two Numbers is:\",lcm(a,b))"
   ]
  },
  {
   "cell_type": "code",
   "execution_count": null,
   "id": "7d2de9ad",
   "metadata": {},
   "outputs": [],
   "source": []
  }
 ],
 "metadata": {
  "kernelspec": {
   "display_name": "Python 3",
   "language": "python",
   "name": "python3"
  },
  "language_info": {
   "codemirror_mode": {
    "name": "ipython",
    "version": 3
   },
   "file_extension": ".py",
   "mimetype": "text/x-python",
   "name": "python",
   "nbconvert_exporter": "python",
   "pygments_lexer": "ipython3",
   "version": "3.8.8"
  }
 },
 "nbformat": 4,
 "nbformat_minor": 5
}
